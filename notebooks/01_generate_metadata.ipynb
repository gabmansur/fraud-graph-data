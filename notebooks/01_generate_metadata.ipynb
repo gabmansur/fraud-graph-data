{
 "cells": [
  {
   "cell_type": "code",
   "execution_count": null,
   "id": "d3ecee2d",
   "metadata": {},
   "outputs": [
    {
     "name": "stdout",
     "output_type": "stream",
     "text": [
      "Total unique users: 19917\n",
      "Enriched user metadata saved to 'data/processed/users_metadata.csv'\n"
     ]
    }
   ],
   "source": [
    "import pandas as pd\n",
    "import numpy as np\n",
    "from faker import Faker\n",
    "\n",
    "# Setup\n",
    "fake = Faker()\n",
    "np.random.seed(42) # The answer for all questions in life, the universe, and everything\n",
    "\n",
    "# Load transactions and sample\n",
    "df = pd.read_csv(\"../data/raw/PS_20174392719_1491204439457_log.csv\")\n",
    "df = df.sample(3000, random_state=42)\n",
    "\n",
    "# Extract unique users\n",
    "all_users = pd.Series(df[\"nameOrig\"].tolist() + df[\"nameDest\"].tolist()).unique()\n",
    "\n",
    "# Generate metadata\n",
    "meta = {\n",
    "    \"user_id\": [],\n",
    "    \"name\": [],\n",
    "    \"email\": [],\n",
    "    \"phone\": [],\n",
    "    \"ip\": [],\n",
    "    \"company\": []\n",
    "}\n",
    "\n",
    "for u in all_users:\n",
    "    meta[\"user_id\"].append(u)\n",
    "    meta[\"name\"].append(fake.name())\n",
    "    meta[\"email\"].append(fake.email())\n",
    "    meta[\"phone\"].append(fake.phone_number())\n",
    "    meta[\"ip\"].append(fake.ipv4_public())\n",
    "    meta[\"company\"].append(fake.company())\n",
    "\n",
    "meta_df = pd.DataFrame(meta)\n",
    "\n",
    "# Inject suspicious overlaps\n",
    "# 10 phones used by 50 people\n",
    "susp_phones = meta_df[\"phone\"].sample(10).values\n",
    "for i, idx in enumerate(meta_df.sample(50).index):\n",
    "    meta_df.at[idx, \"phone\"] = susp_phones[i % 10]\n",
    "\n",
    "# 5 IPs used by 30 people\n",
    "susp_ips = meta_df[\"ip\"].sample(5).values\n",
    "for i, idx in enumerate(meta_df.sample(30).index):\n",
    "    meta_df.at[idx, \"ip\"] = susp_ips[i % 5]\n",
    "\n",
    "# Inject 5-person fraud ring (same phone + ip + company)\n",
    "fraud_ring = meta_df.sample(5, random_state=99).copy()\n",
    "shared_phone = fake.phone_number()\n",
    "shared_ip = fake.ipv4_public()\n",
    "shared_company = \"Evil Corp\" # In honour of mr. Robot\n",
    "\n",
    "for idx in fraud_ring.index:\n",
    "    meta_df.at[idx, \"phone\"] = shared_phone\n",
    "    meta_df.at[idx, \"ip\"] = shared_ip\n",
    "    meta_df.at[idx, \"company\"] = shared_company\n",
    "\n",
    "# Save\n",
    "meta_df.to_csv(\"../data/processed/users_metadata.csv\", index=False)\n",
    "print(\"Saved: users_metadata.csv\")\n"
   ]
  }
 ],
 "metadata": {
  "kernelspec": {
   "display_name": "fraud-graph-env",
   "language": "python",
   "name": ".venv"
  },
  "language_info": {
   "codemirror_mode": {
    "name": "ipython",
    "version": 3
   },
   "file_extension": ".py",
   "mimetype": "text/x-python",
   "name": "python",
   "nbconvert_exporter": "python",
   "pygments_lexer": "ipython3",
   "version": "3.10.11"
  }
 },
 "nbformat": 4,
 "nbformat_minor": 5
}
