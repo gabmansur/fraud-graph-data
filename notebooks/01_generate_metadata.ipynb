{
 "cells": [
  {
   "cell_type": "code",
   "execution_count": null,
   "id": "d3ecee2d",
   "metadata": {
    "vscode": {
     "languageId": "plaintext"
    }
   },
   "outputs": [],
   "source": [
    "# 01_generate_metadata.ipynb\n",
    "# Step 1 of Fraud Graph Demo – Enrich users with fake metadata\n",
    "\n",
    "import pandas as pd\n",
    "import numpy as np\n",
    "from faker import Faker\n",
    "\n",
    "# Set up Faker\n",
    "fake = Faker()\n",
    "np.random.seed(42)\n",
    "\n",
    "# Load the PaySim dataset (adjust path if needed)\n",
    "df = pd.read_csv(\"../data/raw/PS_20174392719_1491204439457_log.csv\")\n",
    "\n",
    "# Combine all unique users (sender + receiver)\n",
    "orig_users = df[\"nameOrig\"].unique()\n",
    "dest_users = df[\"nameDest\"].unique()\n",
    "all_users = pd.Series(orig_users.tolist() + dest_users.tolist()).unique()\n",
    "\n",
    "print(f\"🧾 Total unique users: {len(all_users)}\")\n",
    "\n",
    "# Generate fake metadata for each user\n",
    "user_meta = {\n",
    "    \"user_id\": [],\n",
    "    \"name\": [],\n",
    "    \"email\": [],\n",
    "    \"phone\": [],\n",
    "    \"ip\": [],\n",
    "    \"company\": [],\n",
    "}\n",
    "\n",
    "for user in all_users:\n",
    "    user_meta[\"user_id\"].append(user)\n",
    "    user_meta[\"name\"].append(fake.name())\n",
    "    user_meta[\"email\"].append(fake.email())\n",
    "    user_meta[\"phone\"].append(fake.phone_number())\n",
    "    user_meta[\"ip\"].append(fake.ipv4_public())\n",
    "    user_meta[\"company\"].append(fake.company())\n",
    "\n",
    "meta_df = pd.DataFrame(user_meta)\n",
    "\n",
    "# Inject Suspicious Patterns: Shared phones and IPs\n",
    "# Pick 10 random phones and assign to 50 users (fraud ring)\n",
    "suspicious_phones = meta_df[\"phone\"].sample(10).values\n",
    "fraud_indices = meta_df.sample(50).index\n",
    "\n",
    "for i, idx in enumerate(fraud_indices):\n",
    "    meta_df.at[idx, \"phone\"] = suspicious_phones[i % 10]\n",
    "\n",
    "# Same for IPs\n",
    "suspicious_ips = meta_df[\"ip\"].sample(5).values\n",
    "ip_fraud_indices = meta_df.sample(30).index\n",
    "\n",
    "for i, idx in enumerate(ip_fraud_indices):\n",
    "    meta_df.at[idx, \"ip\"] = suspicious_ips[i % 5]\n",
    "\n",
    "# Done! Preview\n",
    "meta_df.head(10)\n",
    "\n",
    "# Save to processed/ folder for the next notebook\n",
    "meta_df.to_csv(\"../data/processed/users_metadata.csv\", index=False)\n",
    "\n",
    "print(\"Enriched user metadata saved to 'data/processed/users_metadata.csv'\")\n"
   ]
  }
 ],
 "metadata": {
  "language_info": {
   "name": "python"
  }
 },
 "nbformat": 4,
 "nbformat_minor": 5
}
