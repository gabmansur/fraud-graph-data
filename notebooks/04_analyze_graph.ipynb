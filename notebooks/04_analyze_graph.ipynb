{
 "cells": [
  {
   "cell_type": "code",
   "execution_count": null,
   "id": "b289c045",
   "metadata": {},
   "outputs": [],
   "source": [
    "# 04_analyze_graph.ipynb\n",
    "# Sanity check before graph import – See if injected fraud is detectable\n",
    "\n",
    "import pandas as pd\n",
    "\n",
    "# Load enriched data\n",
    "df = pd.read_csv(\"../data/processed/enriched_transactions.csv\")\n",
    "\n",
    "# Count people sharing the same phone\n",
    "phone_counts = pd.concat([\n",
    "    df[[\"nameOrig\", \"sender_phone\"]].rename(columns={\"nameOrig\": \"user_id\", \"sender_phone\": \"phone\"}),\n",
    "    df[[\"nameDest\", \"receiver_phone\"]].rename(columns={\"nameDest\": \"user_id\", \"receiver_phone\": \"phone\"})\n",
    "])\n",
    "phone_counts = phone_counts.drop_duplicates()\n",
    "phone_group = phone_counts.groupby(\"phone\").count()\n",
    "shared_phones = phone_group[phone_group[\"user_id\"] > 1]\n",
    "print(f\"Phones shared by >1 user: {len(shared_phones)}\")\n",
    "\n",
    "# Count people sharing same IP\n",
    "ip_counts = pd.concat([\n",
    "    df[[\"nameOrig\", \"sender_ip\"]].rename(columns={\"nameOrig\": \"user_id\", \"sender_ip\": \"ip\"}),\n",
    "    df[[\"nameDest\", \"receiver_ip\"]].rename(columns={\"nameDest\": \"user_id\", \"receiver_ip\": \"ip\"})\n",
    "])\n",
    "ip_counts = ip_counts.drop_duplicates()\n",
    "ip_group = ip_counts.groupby(\"ip\").count()\n",
    "shared_ips = ip_group[ip_group[\"user_id\"] > 1]\n",
    "print(f\"IPs shared by >1 user: {len(shared_ips)}\")\n",
    "\n",
    "# Cross-check: Who shares the same phone AND IP?\n",
    "merged = pd.merge(phone_counts, ip_counts, on=\"user_id\")\n",
    "cross_group = merged.groupby([\"phone\", \"ip\"]).count()\n",
    "suspicious_pairs = cross_group[cross_group[\"user_id\"] > 1]\n",
    "print(f\"People sharing both phone AND IP: {len(suspicious_pairs)}\")\n",
    "\n",
    "# Show suspicious users (Optional preview)\n",
    "if len(suspicious_pairs):\n",
    "    print(\"\\nSample suspicious overlap:\")\n",
    "    print(merged[(merged[\"phone\"].isin(suspicious_pairs.index.get_level_values(0))) &\n",
    "                 (merged[\"ip\"].isin(suspicious_pairs.index.get_level_values(1)))])\n"
   ]
  }
 ],
 "metadata": {
  "language_info": {
   "name": "python"
  }
 },
 "nbformat": 4,
 "nbformat_minor": 5
}
