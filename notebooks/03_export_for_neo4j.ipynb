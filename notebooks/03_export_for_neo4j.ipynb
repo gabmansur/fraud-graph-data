{
 "cells": [
  {
   "cell_type": "code",
   "execution_count": null,
   "id": "49fae50e",
   "metadata": {},
   "outputs": [
    {
     "name": "stdout",
     "output_type": "stream",
     "text": [
      " All node and relationship CSVs exported to 'data/processed/'\n"
     ]
    },
    {
     "name": "stderr",
     "output_type": "stream",
     "text": [
      "C:\\Users\\gabma\\AppData\\Local\\Temp\\ipykernel_19448\\130534184.py:10: FutureWarning: DataFrame.applymap has been deprecated. Use DataFrame.map instead.\n",
      "  df = df.applymap(lambda x: x.strip() if isinstance(x, str) else x)\n"
     ]
    }
   ],
   "source": [
    "import pandas as pd\n",
    "\n",
    "df = pd.read_csv(\"../data/processed/enriched_transactions.csv\")\n",
    "df = df.applymap(lambda x: x.strip() if isinstance(x, str) else x)\n",
    "\n",
    "# Nodes\n",
    "pd.concat([\n",
    "    df[[\"nameOrig\", \"sender_name\", \"sender_email\"]].rename(columns={\"nameOrig\": \"user_id\", \"sender_name\": \"name\", \"sender_email\": \"email\"}),\n",
    "    df[[\"nameDest\", \"receiver_name\", \"receiver_email\"]].rename(columns={\"nameDest\": \"user_id\", \"receiver_name\": \"name\", \"receiver_email\": \"email\"})\n",
    "]).drop_duplicates().to_csv(\"../data/processed/nodes_person.csv\", index=False)\n",
    "\n",
    "pd.concat([\n",
    "    df[[\"sender_phone\"]].rename(columns={\"sender_phone\": \"phone\"}),\n",
    "    df[[\"receiver_phone\"]].rename(columns={\"receiver_phone\": \"phone\"})\n",
    "]).drop_duplicates().to_csv(\"../data/processed/nodes_phone.csv\", index=False)\n",
    "\n",
    "pd.concat([\n",
    "    df[[\"sender_ip\"]].rename(columns={\"sender_ip\": \"ip\"}),\n",
    "    df[[\"receiver_ip\"]].rename(columns={\"receiver_ip\": \"ip\"})\n",
    "]).drop_duplicates().to_csv(\"../data/processed/nodes_ip.csv\", index=False)\n",
    "\n",
    "pd.concat([\n",
    "    df[[\"sender_company\"]].rename(columns={\"sender_company\": \"company\"}),\n",
    "    df[[\"receiver_company\"]].rename(columns={\"receiver_company\": \"company\"})\n",
    "]).drop_duplicates().to_csv(\"../data/processed/nodes_company.csv\", index=False)\n",
    "\n",
    "# Relationships\n",
    "df[[\"nameOrig\", \"nameDest\", \"amount\", \"type\", \"isFraud\"]].rename(columns={\n",
    "    \"nameOrig\": \"from\", \"nameDest\": \"to\"\n",
    "}).to_csv(\"../data/processed/relationships_sent.csv\", index=False)\n",
    "\n",
    "pd.concat([\n",
    "    df[[\"nameOrig\", \"sender_phone\"]].rename(columns={\"nameOrig\": \"user_id\", \"sender_phone\": \"phone\"}),\n",
    "    df[[\"nameDest\", \"receiver_phone\"]].rename(columns={\"nameDest\": \"user_id\", \"receiver_phone\": \"phone\"})\n",
    "]).drop_duplicates().to_csv(\"../data/processed/relationships_uses_phone.csv\", index=False)\n",
    "\n",
    "pd.concat([\n",
    "    df[[\"nameOrig\", \"sender_ip\"]].rename(columns={\"nameOrig\": \"user_id\", \"sender_ip\": \"ip\"}),\n",
    "    df[[\"nameDest\", \"receiver_ip\"]].rename(columns={\"nameDest\": \"user_id\", \"receiver_ip\": \"ip\"})\n",
    "]).drop_duplicates().to_csv(\"../data/processed/relationships_logged_from.csv\", index=False)\n",
    "\n",
    "pd.concat([\n",
    "    df[[\"nameOrig\", \"sender_company\"]].rename(columns={\"nameOrig\": \"user_id\", \"sender_company\": \"company\"}),\n",
    "    df[[\"nameDest\", \"receiver_company\"]].rename(columns={\"nameDest\": \"user_id\", \"receiver_company\": \"company\"})\n",
    "]).drop_duplicates().to_csv(\"../data/processed/relationships_works_for.csv\", index=False)\n",
    "\n",
    "print(\"All node and relationship files exported.\")\n"
   ]
  }
 ],
 "metadata": {
  "kernelspec": {
   "display_name": "fraud-graph-env",
   "language": "python",
   "name": ".venv"
  },
  "language_info": {
   "codemirror_mode": {
    "name": "ipython",
    "version": 3
   },
   "file_extension": ".py",
   "mimetype": "text/x-python",
   "name": "python",
   "nbconvert_exporter": "python",
   "pygments_lexer": "ipython3",
   "version": "3.10.11"
  }
 },
 "nbformat": 4,
 "nbformat_minor": 5
}
