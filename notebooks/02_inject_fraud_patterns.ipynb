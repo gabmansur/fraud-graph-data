{
 "cells": [
  {
   "cell_type": "code",
   "execution_count": 1,
   "id": "01be1e65",
   "metadata": {},
   "outputs": [
    {
     "name": "stdout",
     "output_type": "stream",
     "text": [
      "Enriched transactions saved to 'data/processed/enriched_transactions.csv'\n"
     ]
    }
   ],
   "source": [
    "#  02_inject_fraud_patterns.ipynb\n",
    "# Merge metadata with transactions and prep for graph import\n",
    "\n",
    "import pandas as pd\n",
    "\n",
    "# Load PaySim sample\n",
    "df = pd.read_csv(\"../data/raw/PS_20174392719_1491204439457_log.csv\")\n",
    "df = df.sample(10000, random_state=42)\n",
    "\n",
    "# Load enriched metadata\n",
    "meta_df = pd.read_csv(\"../data/processed/users_metadata.csv\")\n",
    "\n",
    "# Merge sender metadata\n",
    "df = df.merge(meta_df, how='left', left_on='nameOrig', right_on='user_id')\n",
    "df = df.rename(columns={\n",
    "    'name': 'sender_name',\n",
    "    'email': 'sender_email',\n",
    "    'phone': 'sender_phone',\n",
    "    'ip': 'sender_ip',\n",
    "    'company': 'sender_company'\n",
    "}).drop(columns=['user_id'])\n",
    "\n",
    "# Merge receiver metadata\n",
    "df = df.merge(meta_df, how='left', left_on='nameDest', right_on='user_id')\n",
    "df = df.rename(columns={\n",
    "    'name': 'receiver_name',\n",
    "    'email': 'receiver_email',\n",
    "    'phone': 'receiver_phone',\n",
    "    'ip': 'receiver_ip',\n",
    "    'company': 'receiver_company'\n",
    "}).drop(columns=['user_id'])\n",
    "\n",
    "# Preview result\n",
    "df.head()\n",
    "\n",
    "df.to_csv(\"../data/processed/enriched_transactions.csv\", index=False)\n",
    "print(\"Enriched transactions saved to 'data/processed/enriched_transactions.csv'\")"
   ]
  }
 ],
 "metadata": {
  "kernelspec": {
   "display_name": "fraud-graph-env",
   "language": "python",
   "name": ".venv"
  },
  "language_info": {
   "codemirror_mode": {
    "name": "ipython",
    "version": 3
   },
   "file_extension": ".py",
   "mimetype": "text/x-python",
   "name": "python",
   "nbconvert_exporter": "python",
   "pygments_lexer": "ipython3",
   "version": "3.10.11"
  }
 },
 "nbformat": 4,
 "nbformat_minor": 5
}
