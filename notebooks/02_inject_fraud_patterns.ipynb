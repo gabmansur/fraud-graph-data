{
 "cells": [
  {
   "cell_type": "code",
   "execution_count": null,
   "id": "01be1e65",
   "metadata": {},
   "outputs": [],
   "source": [
    "#  02_inject_fraud_patterns.ipynb\n",
    "# Merge metadata with transactions and prep for graph import\n",
    "\n",
    "import pandas as pd\n",
    "\n",
    "# Load PaySim sample\n",
    "df = pd.read_csv(\"../data/raw/PS_20174392719_1491204439457_log.csv\")\n",
    "df = df.sample(10000, random_state=42)\n",
    "\n",
    "# Load enriched metadata\n",
    "meta_df = pd.read_csv(\"../data/processed/users_metadata.csv\")\n",
    "\n",
    "# Merge sender metadata\n",
    "df = df.merge(meta_df, how='left', left_on='nameOrig', right_on='user_id')\n",
    "df = df.rename(columns={\n",
    "    'name': 'sender_name',\n",
    "    'email': 'sender_email',\n",
    "    'phone': 'sender_phone',\n",
    "    'ip': 'sender_ip',\n",
    "    'company': 'sender_company'\n",
    "}).drop(columns=['user_id'])\n",
    "\n",
    "# Merge receiver metadata\n",
    "df = df.merge(meta_df, how='left', left_on='nameDest', right_on='user_id')\n",
    "df = df.rename(columns={\n",
    "    'name': 'receiver_name',\n",
    "    'email': 'receiver_email',\n",
    "    'phone': 'receiver_phone',\n",
    "    'ip': 'receiver_ip',\n",
    "    'company': 'receiver_company'\n",
    "}).drop(columns=['user_id'])\n",
    "\n",
    "# Preview result\n",
    "df.head()"
   ]
  }
 ],
 "metadata": {
  "language_info": {
   "name": "python"
  }
 },
 "nbformat": 4,
 "nbformat_minor": 5
}
