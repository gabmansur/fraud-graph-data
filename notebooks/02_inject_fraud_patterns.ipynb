{
 "cells": [
  {
   "cell_type": "code",
   "execution_count": null,
   "id": "01be1e65",
   "metadata": {},
   "outputs": [
    {
     "name": "stdout",
     "output_type": "stream",
     "text": [
      "Enriched transactions saved to 'data/processed/enriched_transactions.csv'\n"
     ]
    }
   ],
   "source": [
    "import pandas as pd\n",
    "\n",
    "# Load raw sample\n",
    "df = pd.read_csv(\"../data/raw/PS_20174392719_1491204439457_log.csv\")\n",
    "df = df.sample(3000, random_state=42)\n",
    "\n",
    "# Load user metadata\n",
    "meta = pd.read_csv(\"../data/processed/users_metadata.csv\")\n",
    "\n",
    "# Merge sender\n",
    "df = df.merge(meta, left_on=\"nameOrig\", right_on=\"user_id\", how=\"left\").rename(columns={\n",
    "    \"name\": \"sender_name\",\n",
    "    \"email\": \"sender_email\",\n",
    "    \"phone\": \"sender_phone\",\n",
    "    \"ip\": \"sender_ip\",\n",
    "    \"company\": \"sender_company\"\n",
    "}).drop(columns=[\"user_id\"])\n",
    "\n",
    "# Merge receiver\n",
    "df = df.merge(meta, left_on=\"nameDest\", right_on=\"user_id\", how=\"left\").rename(columns={\n",
    "    \"name\": \"receiver_name\",\n",
    "    \"email\": \"receiver_email\",\n",
    "    \"phone\": \"receiver_phone\",\n",
    "    \"ip\": \"receiver_ip\",\n",
    "    \"company\": \"receiver_company\"\n",
    "}).drop(columns=[\"user_id\"])\n",
    "\n",
    "# Save\n",
    "df.to_csv(\"../data/processed/enriched_transactions.csv\", index=False)\n",
    "print(\"Saved: enriched_transactions.csv\")"
   ]
  }
 ],
 "metadata": {
  "kernelspec": {
   "display_name": "fraud-graph-env",
   "language": "python",
   "name": ".venv"
  },
  "language_info": {
   "codemirror_mode": {
    "name": "ipython",
    "version": 3
   },
   "file_extension": ".py",
   "mimetype": "text/x-python",
   "name": "python",
   "nbconvert_exporter": "python",
   "pygments_lexer": "ipython3",
   "version": "3.10.11"
  }
 },
 "nbformat": 4,
 "nbformat_minor": 5
}
