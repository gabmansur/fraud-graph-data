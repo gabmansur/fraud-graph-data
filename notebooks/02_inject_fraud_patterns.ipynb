{
 "cells": [
  {
   "cell_type": "code",
   "execution_count": null,
   "id": "01be1e65",
   "metadata": {},
   "outputs": [
    {
     "name": "stdout",
     "output_type": "stream",
     "text": [
      "Enriched transactions saved to 'data/processed/enriched_transactions.csv'\n"
     ]
    }
   ],
   "source": [
    "import pandas as pd\n",
    "\n",
    "# Load raw sample\n",
    "df = pd.read_csv(\"../data/raw/PS_20174392719_1491204439457_log.csv\")\n",
    "df = df.sample(3000, random_state=42)\n",
    "\n",
    "# Load user metadata\n",
    "meta = pd.read_csv(\"../data/processed/users_metadata.csv\")\n",
    "\n",
    "# Merge sender\n",
    "df = df.merge(meta, left_on=\"nameOrig\", right_on=\"user_id\", how=\"left\").rename(columns={\n",
    "    \"name\": \"sender_name\",\n",
    "    \"email\": \"sender_email\",\n",
    "    \"phone\": \"sender_phone\",\n",
    "    \"ip\": \"sender_ip\",\n",
    "    \"company\": \"sender_company\"\n",
    "}).drop(columns=[\"user_id\"])\n",
    "\n",
    "# Merge receiver\n",
    "df = df.merge(meta, left_on=\"nameDest\", right_on=\"user_id\", how=\"left\").rename(columns={\n",
    "    \"name\": \"receiver_name\",\n",
    "    \"email\": \"receiver_email\",\n",
    "    \"phone\": \"receiver_phone\",\n",
    "    \"ip\": \"receiver_ip\",\n",
    "    \"company\": \"receiver_company\"\n",
    "}).drop(columns=[\"user_id\"])\n",
    "\n",
    "# Quick overlap checks on enriched data\n",
    "phones = df.groupby(\"sender_phone\")[\"nameOrig\"].nunique().sort_values(ascending=False)\n",
    "ips    = df.groupby(\"sender_ip\")[\"nameOrig\"].nunique().sort_values(ascending=False)\n",
    "print(\"Senders per phone >=2:\", (phones >= 2).sum(), \"Top:\\n\", phones.head())\n",
    "print(\"Senders per ip    >=2:\", (ips    >= 2).sum(), \"Top:\\n\", ips.head())\n",
    "\n",
    "# Save\n",
    "df.to_csv(\"../data/processed/enriched_transactions.csv\", index=False)\n",
    "print(\"Saved: enriched_transactions.csv\")"
   ]
  }
 ],
 "metadata": {
  "kernelspec": {
   "display_name": "fraud-graph-env",
   "language": "python",
   "name": ".venv"
  },
  "language_info": {
   "codemirror_mode": {
    "name": "ipython",
    "version": 3
   },
   "file_extension": ".py",
   "mimetype": "text/x-python",
   "name": "python",
   "nbconvert_exporter": "python",
   "pygments_lexer": "ipython3",
   "version": "3.10.11"
  }
 },
 "nbformat": 4,
 "nbformat_minor": 5
}
